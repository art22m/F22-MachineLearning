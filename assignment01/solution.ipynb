{
 "cells": [
  {
   "cell_type": "markdown",
   "metadata": {},
   "source": [
    "# Assignment 1\n",
    "#### Murashko Artem | SD20-01 | ar.murashko@innopolis.university\n",
    "----"
   ]
  },
  {
   "cell_type": "markdown",
   "metadata": {},
   "source": [
    "#### Import the libraries"
   ]
  },
  {
   "cell_type": "code",
   "execution_count": 130,
   "metadata": {},
   "outputs": [],
   "source": [
    "import pandas as pd\n",
    "import numpy as np\n",
    "\n",
    "import matplotlib.pyplot as plt\n",
    "\n",
    "from sklearn import metrics\n",
    "from sklearn.model_selection import train_test_split\n",
    "from sklearn.model_selection import GridSearchCV\n",
    "from sklearn.model_selection import cross_val_score\n",
    "from sklearn.naive_bayes import GaussianNB\n",
    "from sklearn.linear_model import LinearRegression\n",
    "from sklearn.linear_model import LogisticRegression\n",
    "from sklearn.pipeline import Pipeline\n",
    "from sklearn.decomposition import PCA\n",
    "from sklearn.neighbors import KNeighborsClassifier\n",
    "\n",
    "from sklearn.preprocessing import PolynomialFeatures\n",
    "from sklearn.preprocessing import OneHotEncoder\n",
    "from sklearn.preprocessing import OrdinalEncoder\n",
    "from sklearn.preprocessing import StandardScaler\n",
    "\n",
    "import warnings\n",
    "warnings.filterwarnings('ignore')"
   ]
  },
  {
   "cell_type": "markdown",
   "metadata": {},
   "source": [
    "#### Loading data"
   ]
  },
  {
   "cell_type": "code",
   "execution_count": 131,
   "metadata": {},
   "outputs": [
    {
     "data": {
      "text/html": [
       "<div>\n",
       "<style scoped>\n",
       "    .dataframe tbody tr th:only-of-type {\n",
       "        vertical-align: middle;\n",
       "    }\n",
       "\n",
       "    .dataframe tbody tr th {\n",
       "        vertical-align: top;\n",
       "    }\n",
       "\n",
       "    .dataframe thead th {\n",
       "        text-align: right;\n",
       "    }\n",
       "</style>\n",
       "<table border=\"1\" class=\"dataframe\">\n",
       "  <thead>\n",
       "    <tr style=\"text-align: right;\">\n",
       "      <th></th>\n",
       "      <th>target</th>\n",
       "      <th>var1</th>\n",
       "      <th>var2</th>\n",
       "      <th>var3</th>\n",
       "      <th>var4</th>\n",
       "      <th>var5</th>\n",
       "      <th>var6</th>\n",
       "      <th>var7</th>\n",
       "    </tr>\n",
       "  </thead>\n",
       "  <tbody>\n",
       "    <tr>\n",
       "      <th>0</th>\n",
       "      <td>0</td>\n",
       "      <td>509.18</td>\n",
       "      <td>417.681</td>\n",
       "      <td>Micronesia</td>\n",
       "      <td>138.0</td>\n",
       "      <td>393.00</td>\n",
       "      <td>no</td>\n",
       "      <td>2019-07-20 13:21:37</td>\n",
       "    </tr>\n",
       "    <tr>\n",
       "      <th>1</th>\n",
       "      <td>0</td>\n",
       "      <td>446.06</td>\n",
       "      <td>666.182</td>\n",
       "      <td>Dominica</td>\n",
       "      <td>81.0</td>\n",
       "      <td>352.05</td>\n",
       "      <td>yes</td>\n",
       "      <td>2019-04-04 21:30:46</td>\n",
       "    </tr>\n",
       "    <tr>\n",
       "      <th>2</th>\n",
       "      <td>1</td>\n",
       "      <td>235.50</td>\n",
       "      <td>398.097</td>\n",
       "      <td>Isle of Man</td>\n",
       "      <td>90.0</td>\n",
       "      <td>339.00</td>\n",
       "      <td>no</td>\n",
       "      <td>2019-03-03 02:59:37</td>\n",
       "    </tr>\n",
       "    <tr>\n",
       "      <th>3</th>\n",
       "      <td>0</td>\n",
       "      <td>306.02</td>\n",
       "      <td>518.163</td>\n",
       "      <td>Turkmenistan</td>\n",
       "      <td>102.0</td>\n",
       "      <td>439.25</td>\n",
       "      <td>yes</td>\n",
       "      <td>2019-03-19 08:00:58</td>\n",
       "    </tr>\n",
       "    <tr>\n",
       "      <th>4</th>\n",
       "      <td>0</td>\n",
       "      <td>453.08</td>\n",
       "      <td>600.156</td>\n",
       "      <td>Cameroon</td>\n",
       "      <td>105.0</td>\n",
       "      <td>422.95</td>\n",
       "      <td>no</td>\n",
       "      <td>2019-03-18 13:22:35</td>\n",
       "    </tr>\n",
       "    <tr>\n",
       "      <th>...</th>\n",
       "      <td>...</td>\n",
       "      <td>...</td>\n",
       "      <td>...</td>\n",
       "      <td>...</td>\n",
       "      <td>...</td>\n",
       "      <td>...</td>\n",
       "      <td>...</td>\n",
       "      <td>...</td>\n",
       "    </tr>\n",
       "    <tr>\n",
       "      <th>920</th>\n",
       "      <td>0</td>\n",
       "      <td>422.34</td>\n",
       "      <td>547.259</td>\n",
       "      <td>Belarus</td>\n",
       "      <td>NaN</td>\n",
       "      <td>350.45</td>\n",
       "      <td>yes</td>\n",
       "      <td>2019-01-22 12:58:14</td>\n",
       "    </tr>\n",
       "    <tr>\n",
       "      <th>921</th>\n",
       "      <td>1</td>\n",
       "      <td>342.62</td>\n",
       "      <td>473.919</td>\n",
       "      <td>Japan</td>\n",
       "      <td>NaN</td>\n",
       "      <td>200.85</td>\n",
       "      <td>no</td>\n",
       "      <td>2019-02-01 14:37:34</td>\n",
       "    </tr>\n",
       "    <tr>\n",
       "      <th>922</th>\n",
       "      <td>1</td>\n",
       "      <td>265.10</td>\n",
       "      <td>538.170</td>\n",
       "      <td>Saint Martin</td>\n",
       "      <td>NaN</td>\n",
       "      <td>208.35</td>\n",
       "      <td>yes</td>\n",
       "      <td>2019-06-13 18:50:00</td>\n",
       "    </tr>\n",
       "    <tr>\n",
       "      <th>923</th>\n",
       "      <td>0</td>\n",
       "      <td>397.12</td>\n",
       "      <td>622.386</td>\n",
       "      <td>Chad</td>\n",
       "      <td>NaN</td>\n",
       "      <td>433.45</td>\n",
       "      <td>yes</td>\n",
       "      <td>2019-05-27 06:19:27</td>\n",
       "    </tr>\n",
       "    <tr>\n",
       "      <th>924</th>\n",
       "      <td>1</td>\n",
       "      <td>242.10</td>\n",
       "      <td>420.429</td>\n",
       "      <td>Albania</td>\n",
       "      <td>NaN</td>\n",
       "      <td>369.20</td>\n",
       "      <td>yes</td>\n",
       "      <td>2019-06-18 17:23:26</td>\n",
       "    </tr>\n",
       "  </tbody>\n",
       "</table>\n",
       "<p>925 rows × 8 columns</p>\n",
       "</div>"
      ],
      "text/plain": [
       "     target    var1     var2          var3   var4    var5 var6  \\\n",
       "0         0  509.18  417.681    Micronesia  138.0  393.00   no   \n",
       "1         0  446.06  666.182      Dominica   81.0  352.05  yes   \n",
       "2         1  235.50  398.097   Isle of Man   90.0  339.00   no   \n",
       "3         0  306.02  518.163  Turkmenistan  102.0  439.25  yes   \n",
       "4         0  453.08  600.156      Cameroon  105.0  422.95   no   \n",
       "..      ...     ...      ...           ...    ...     ...  ...   \n",
       "920       0  422.34  547.259       Belarus    NaN  350.45  yes   \n",
       "921       1  342.62  473.919         Japan    NaN  200.85   no   \n",
       "922       1  265.10  538.170  Saint Martin    NaN  208.35  yes   \n",
       "923       0  397.12  622.386          Chad    NaN  433.45  yes   \n",
       "924       1  242.10  420.429       Albania    NaN  369.20  yes   \n",
       "\n",
       "                    var7  \n",
       "0    2019-07-20 13:21:37  \n",
       "1    2019-04-04 21:30:46  \n",
       "2    2019-03-03 02:59:37  \n",
       "3    2019-03-19 08:00:58  \n",
       "4    2019-03-18 13:22:35  \n",
       "..                   ...  \n",
       "920  2019-01-22 12:58:14  \n",
       "921  2019-02-01 14:37:34  \n",
       "922  2019-06-13 18:50:00  \n",
       "923  2019-05-27 06:19:27  \n",
       "924  2019-06-18 17:23:26  \n",
       "\n",
       "[925 rows x 8 columns]"
      ]
     },
     "execution_count": 131,
     "metadata": {},
     "output_type": "execute_result"
    }
   ],
   "source": [
    "data = pd.read_csv('a1_dataset.csv')\n",
    "data"
   ]
  },
  {
   "cell_type": "markdown",
   "metadata": {},
   "source": [
    "## Preprocessing\n",
    "### Encoding categorical values"
   ]
  },
  {
   "cell_type": "markdown",
   "metadata": {},
   "source": [
    "I will use Ordinal encoding technique for var3 and var6.\\\n",
    "And for now I will delete var7."
   ]
  },
  {
   "cell_type": "code",
   "execution_count": 132,
   "metadata": {},
   "outputs": [],
   "source": [
    "encoder = OrdinalEncoder()\n",
    "data['var3'] = encoder.fit_transform(data.loc[:, ['var3']])\n",
    "data['var6'] = encoder.fit_transform(data.loc[:, ['var6']])\n",
    "data = data.drop('var7', axis=1)"
   ]
  },
  {
   "cell_type": "markdown",
   "metadata": {},
   "source": [
    "Let's see our encoded dataset:"
   ]
  },
  {
   "cell_type": "code",
   "execution_count": 133,
   "metadata": {},
   "outputs": [
    {
     "data": {
      "text/html": [
       "<div>\n",
       "<style scoped>\n",
       "    .dataframe tbody tr th:only-of-type {\n",
       "        vertical-align: middle;\n",
       "    }\n",
       "\n",
       "    .dataframe tbody tr th {\n",
       "        vertical-align: top;\n",
       "    }\n",
       "\n",
       "    .dataframe thead th {\n",
       "        text-align: right;\n",
       "    }\n",
       "</style>\n",
       "<table border=\"1\" class=\"dataframe\">\n",
       "  <thead>\n",
       "    <tr style=\"text-align: right;\">\n",
       "      <th></th>\n",
       "      <th>target</th>\n",
       "      <th>var1</th>\n",
       "      <th>var2</th>\n",
       "      <th>var3</th>\n",
       "      <th>var4</th>\n",
       "      <th>var5</th>\n",
       "      <th>var6</th>\n",
       "    </tr>\n",
       "  </thead>\n",
       "  <tbody>\n",
       "    <tr>\n",
       "      <th>0</th>\n",
       "      <td>0</td>\n",
       "      <td>509.18</td>\n",
       "      <td>417.681</td>\n",
       "      <td>137.0</td>\n",
       "      <td>138.0</td>\n",
       "      <td>393.00</td>\n",
       "      <td>0.0</td>\n",
       "    </tr>\n",
       "    <tr>\n",
       "      <th>1</th>\n",
       "      <td>0</td>\n",
       "      <td>446.06</td>\n",
       "      <td>666.182</td>\n",
       "      <td>57.0</td>\n",
       "      <td>81.0</td>\n",
       "      <td>352.05</td>\n",
       "      <td>1.0</td>\n",
       "    </tr>\n",
       "    <tr>\n",
       "      <th>2</th>\n",
       "      <td>1</td>\n",
       "      <td>235.50</td>\n",
       "      <td>398.097</td>\n",
       "      <td>101.0</td>\n",
       "      <td>90.0</td>\n",
       "      <td>339.00</td>\n",
       "      <td>0.0</td>\n",
       "    </tr>\n",
       "    <tr>\n",
       "      <th>3</th>\n",
       "      <td>0</td>\n",
       "      <td>306.02</td>\n",
       "      <td>518.163</td>\n",
       "      <td>216.0</td>\n",
       "      <td>102.0</td>\n",
       "      <td>439.25</td>\n",
       "      <td>1.0</td>\n",
       "    </tr>\n",
       "    <tr>\n",
       "      <th>4</th>\n",
       "      <td>0</td>\n",
       "      <td>453.08</td>\n",
       "      <td>600.156</td>\n",
       "      <td>36.0</td>\n",
       "      <td>105.0</td>\n",
       "      <td>422.95</td>\n",
       "      <td>0.0</td>\n",
       "    </tr>\n",
       "    <tr>\n",
       "      <th>...</th>\n",
       "      <td>...</td>\n",
       "      <td>...</td>\n",
       "      <td>...</td>\n",
       "      <td>...</td>\n",
       "      <td>...</td>\n",
       "      <td>...</td>\n",
       "      <td>...</td>\n",
       "    </tr>\n",
       "    <tr>\n",
       "      <th>920</th>\n",
       "      <td>0</td>\n",
       "      <td>422.34</td>\n",
       "      <td>547.259</td>\n",
       "      <td>19.0</td>\n",
       "      <td>NaN</td>\n",
       "      <td>350.45</td>\n",
       "      <td>1.0</td>\n",
       "    </tr>\n",
       "    <tr>\n",
       "      <th>921</th>\n",
       "      <td>1</td>\n",
       "      <td>342.62</td>\n",
       "      <td>473.919</td>\n",
       "      <td>105.0</td>\n",
       "      <td>NaN</td>\n",
       "      <td>200.85</td>\n",
       "      <td>0.0</td>\n",
       "    </tr>\n",
       "    <tr>\n",
       "      <th>922</th>\n",
       "      <td>1</td>\n",
       "      <td>265.10</td>\n",
       "      <td>538.170</td>\n",
       "      <td>179.0</td>\n",
       "      <td>NaN</td>\n",
       "      <td>208.35</td>\n",
       "      <td>1.0</td>\n",
       "    </tr>\n",
       "    <tr>\n",
       "      <th>923</th>\n",
       "      <td>0</td>\n",
       "      <td>397.12</td>\n",
       "      <td>622.386</td>\n",
       "      <td>41.0</td>\n",
       "      <td>NaN</td>\n",
       "      <td>433.45</td>\n",
       "      <td>1.0</td>\n",
       "    </tr>\n",
       "    <tr>\n",
       "      <th>924</th>\n",
       "      <td>1</td>\n",
       "      <td>242.10</td>\n",
       "      <td>420.429</td>\n",
       "      <td>1.0</td>\n",
       "      <td>NaN</td>\n",
       "      <td>369.20</td>\n",
       "      <td>1.0</td>\n",
       "    </tr>\n",
       "  </tbody>\n",
       "</table>\n",
       "<p>925 rows × 7 columns</p>\n",
       "</div>"
      ],
      "text/plain": [
       "     target    var1     var2   var3   var4    var5  var6\n",
       "0         0  509.18  417.681  137.0  138.0  393.00   0.0\n",
       "1         0  446.06  666.182   57.0   81.0  352.05   1.0\n",
       "2         1  235.50  398.097  101.0   90.0  339.00   0.0\n",
       "3         0  306.02  518.163  216.0  102.0  439.25   1.0\n",
       "4         0  453.08  600.156   36.0  105.0  422.95   0.0\n",
       "..      ...     ...      ...    ...    ...     ...   ...\n",
       "920       0  422.34  547.259   19.0    NaN  350.45   1.0\n",
       "921       1  342.62  473.919  105.0    NaN  200.85   0.0\n",
       "922       1  265.10  538.170  179.0    NaN  208.35   1.0\n",
       "923       0  397.12  622.386   41.0    NaN  433.45   1.0\n",
       "924       1  242.10  420.429    1.0    NaN  369.20   1.0\n",
       "\n",
       "[925 rows x 7 columns]"
      ]
     },
     "execution_count": 133,
     "metadata": {},
     "output_type": "execute_result"
    }
   ],
   "source": [
    "data"
   ]
  },
  {
   "cell_type": "markdown",
   "metadata": {},
   "source": [
    "### Data imputation"
   ]
  },
  {
   "cell_type": "markdown",
   "metadata": {},
   "source": [
    "Let's find missing values for var4. \\\n",
    "Firstly, I need to define features and target, and scale the data:"
   ]
  },
  {
   "cell_type": "code",
   "execution_count": 134,
   "metadata": {},
   "outputs": [
    {
     "data": {
      "text/html": [
       "<div>\n",
       "<style scoped>\n",
       "    .dataframe tbody tr th:only-of-type {\n",
       "        vertical-align: middle;\n",
       "    }\n",
       "\n",
       "    .dataframe tbody tr th {\n",
       "        vertical-align: top;\n",
       "    }\n",
       "\n",
       "    .dataframe thead th {\n",
       "        text-align: right;\n",
       "    }\n",
       "</style>\n",
       "<table border=\"1\" class=\"dataframe\">\n",
       "  <thead>\n",
       "    <tr style=\"text-align: right;\">\n",
       "      <th></th>\n",
       "      <th>target</th>\n",
       "      <th>var1</th>\n",
       "      <th>var2</th>\n",
       "      <th>var3</th>\n",
       "      <th>var4</th>\n",
       "      <th>var5</th>\n",
       "      <th>var6</th>\n",
       "    </tr>\n",
       "  </thead>\n",
       "  <tbody>\n",
       "    <tr>\n",
       "      <th>0</th>\n",
       "      <td>0</td>\n",
       "      <td>1.697391</td>\n",
       "      <td>-0.967153</td>\n",
       "      <td>0.321166</td>\n",
       "      <td>1.124118</td>\n",
       "      <td>0.857726</td>\n",
       "      <td>0.0</td>\n",
       "    </tr>\n",
       "    <tr>\n",
       "      <th>1</th>\n",
       "      <td>0</td>\n",
       "      <td>0.978641</td>\n",
       "      <td>0.871575</td>\n",
       "      <td>-0.828074</td>\n",
       "      <td>-1.044401</td>\n",
       "      <td>0.338188</td>\n",
       "      <td>1.0</td>\n",
       "    </tr>\n",
       "    <tr>\n",
       "      <th>2</th>\n",
       "      <td>1</td>\n",
       "      <td>-1.419013</td>\n",
       "      <td>-1.112060</td>\n",
       "      <td>-0.195992</td>\n",
       "      <td>-0.702003</td>\n",
       "      <td>0.172622</td>\n",
       "      <td>0.0</td>\n",
       "    </tr>\n",
       "    <tr>\n",
       "      <th>3</th>\n",
       "      <td>0</td>\n",
       "      <td>-0.616000</td>\n",
       "      <td>-0.223659</td>\n",
       "      <td>1.456041</td>\n",
       "      <td>-0.245473</td>\n",
       "      <td>1.444505</td>\n",
       "      <td>1.0</td>\n",
       "    </tr>\n",
       "    <tr>\n",
       "      <th>4</th>\n",
       "      <td>0</td>\n",
       "      <td>1.058578</td>\n",
       "      <td>0.383030</td>\n",
       "      <td>-1.129750</td>\n",
       "      <td>-0.131340</td>\n",
       "      <td>1.237705</td>\n",
       "      <td>0.0</td>\n",
       "    </tr>\n",
       "    <tr>\n",
       "      <th>...</th>\n",
       "      <td>...</td>\n",
       "      <td>...</td>\n",
       "      <td>...</td>\n",
       "      <td>...</td>\n",
       "      <td>...</td>\n",
       "      <td>...</td>\n",
       "      <td>...</td>\n",
       "    </tr>\n",
       "    <tr>\n",
       "      <th>920</th>\n",
       "      <td>0</td>\n",
       "      <td>0.708541</td>\n",
       "      <td>-0.008370</td>\n",
       "      <td>-1.373963</td>\n",
       "      <td>NaN</td>\n",
       "      <td>0.317889</td>\n",
       "      <td>1.0</td>\n",
       "    </tr>\n",
       "    <tr>\n",
       "      <th>921</th>\n",
       "      <td>1</td>\n",
       "      <td>-0.199234</td>\n",
       "      <td>-0.551033</td>\n",
       "      <td>-0.138530</td>\n",
       "      <td>NaN</td>\n",
       "      <td>-1.580103</td>\n",
       "      <td>0.0</td>\n",
       "    </tr>\n",
       "    <tr>\n",
       "      <th>922</th>\n",
       "      <td>1</td>\n",
       "      <td>-1.081957</td>\n",
       "      <td>-0.075622</td>\n",
       "      <td>0.924517</td>\n",
       "      <td>NaN</td>\n",
       "      <td>-1.484950</td>\n",
       "      <td>1.0</td>\n",
       "    </tr>\n",
       "    <tr>\n",
       "      <th>923</th>\n",
       "      <td>0</td>\n",
       "      <td>0.421360</td>\n",
       "      <td>0.547516</td>\n",
       "      <td>-1.057922</td>\n",
       "      <td>NaN</td>\n",
       "      <td>1.370919</td>\n",
       "      <td>1.0</td>\n",
       "    </tr>\n",
       "    <tr>\n",
       "      <th>924</th>\n",
       "      <td>1</td>\n",
       "      <td>-1.343859</td>\n",
       "      <td>-0.946820</td>\n",
       "      <td>-1.632543</td>\n",
       "      <td>NaN</td>\n",
       "      <td>0.555772</td>\n",
       "      <td>1.0</td>\n",
       "    </tr>\n",
       "  </tbody>\n",
       "</table>\n",
       "<p>925 rows × 7 columns</p>\n",
       "</div>"
      ],
      "text/plain": [
       "     target      var1      var2      var3      var4      var5  var6\n",
       "0         0  1.697391 -0.967153  0.321166  1.124118  0.857726   0.0\n",
       "1         0  0.978641  0.871575 -0.828074 -1.044401  0.338188   1.0\n",
       "2         1 -1.419013 -1.112060 -0.195992 -0.702003  0.172622   0.0\n",
       "3         0 -0.616000 -0.223659  1.456041 -0.245473  1.444505   1.0\n",
       "4         0  1.058578  0.383030 -1.129750 -0.131340  1.237705   0.0\n",
       "..      ...       ...       ...       ...       ...       ...   ...\n",
       "920       0  0.708541 -0.008370 -1.373963       NaN  0.317889   1.0\n",
       "921       1 -0.199234 -0.551033 -0.138530       NaN -1.580103   0.0\n",
       "922       1 -1.081957 -0.075622  0.924517       NaN -1.484950   1.0\n",
       "923       0  0.421360  0.547516 -1.057922       NaN  1.370919   1.0\n",
       "924       1 -1.343859 -0.946820 -1.632543       NaN  0.555772   1.0\n",
       "\n",
       "[925 rows x 7 columns]"
      ]
     },
     "execution_count": 134,
     "metadata": {},
     "output_type": "execute_result"
    }
   ],
   "source": [
    "features_cols = ['target', 'var1', 'var2', 'var3', 'var5', 'var6']\n",
    "target_col = ['var4']\n",
    "\n",
    "data[['var1', 'var2', 'var4', 'var3', 'var5']] = StandardScaler().fit_transform(data[['var1', 'var2', 'var4', 'var3', 'var5']])\n",
    "data"
   ]
  },
  {
   "cell_type": "markdown",
   "metadata": {},
   "source": [
    "Now I need to extract only not null rows from dataset:"
   ]
  },
  {
   "cell_type": "code",
   "execution_count": 135,
   "metadata": {},
   "outputs": [],
   "source": [
    "data_not_null = data[data[target_col].var4.notnull()]\n",
    "\n",
    "X = data_not_null[features_cols]\n",
    "y = data_not_null[target_col]"
   ]
  },
  {
   "cell_type": "markdown",
   "metadata": {},
   "source": [
    "#### Linear regression model"
   ]
  },
  {
   "cell_type": "code",
   "execution_count": 136,
   "metadata": {},
   "outputs": [
    {
     "data": {
      "text/html": [
       "<style>#sk-container-id-6 {color: black;background-color: white;}#sk-container-id-6 pre{padding: 0;}#sk-container-id-6 div.sk-toggleable {background-color: white;}#sk-container-id-6 label.sk-toggleable__label {cursor: pointer;display: block;width: 100%;margin-bottom: 0;padding: 0.3em;box-sizing: border-box;text-align: center;}#sk-container-id-6 label.sk-toggleable__label-arrow:before {content: \"▸\";float: left;margin-right: 0.25em;color: #696969;}#sk-container-id-6 label.sk-toggleable__label-arrow:hover:before {color: black;}#sk-container-id-6 div.sk-estimator:hover label.sk-toggleable__label-arrow:before {color: black;}#sk-container-id-6 div.sk-toggleable__content {max-height: 0;max-width: 0;overflow: hidden;text-align: left;background-color: #f0f8ff;}#sk-container-id-6 div.sk-toggleable__content pre {margin: 0.2em;color: black;border-radius: 0.25em;background-color: #f0f8ff;}#sk-container-id-6 input.sk-toggleable__control:checked~div.sk-toggleable__content {max-height: 200px;max-width: 100%;overflow: auto;}#sk-container-id-6 input.sk-toggleable__control:checked~label.sk-toggleable__label-arrow:before {content: \"▾\";}#sk-container-id-6 div.sk-estimator input.sk-toggleable__control:checked~label.sk-toggleable__label {background-color: #d4ebff;}#sk-container-id-6 div.sk-label input.sk-toggleable__control:checked~label.sk-toggleable__label {background-color: #d4ebff;}#sk-container-id-6 input.sk-hidden--visually {border: 0;clip: rect(1px 1px 1px 1px);clip: rect(1px, 1px, 1px, 1px);height: 1px;margin: -1px;overflow: hidden;padding: 0;position: absolute;width: 1px;}#sk-container-id-6 div.sk-estimator {font-family: monospace;background-color: #f0f8ff;border: 1px dotted black;border-radius: 0.25em;box-sizing: border-box;margin-bottom: 0.5em;}#sk-container-id-6 div.sk-estimator:hover {background-color: #d4ebff;}#sk-container-id-6 div.sk-parallel-item::after {content: \"\";width: 100%;border-bottom: 1px solid gray;flex-grow: 1;}#sk-container-id-6 div.sk-label:hover label.sk-toggleable__label {background-color: #d4ebff;}#sk-container-id-6 div.sk-serial::before {content: \"\";position: absolute;border-left: 1px solid gray;box-sizing: border-box;top: 0;bottom: 0;left: 50%;z-index: 0;}#sk-container-id-6 div.sk-serial {display: flex;flex-direction: column;align-items: center;background-color: white;padding-right: 0.2em;padding-left: 0.2em;position: relative;}#sk-container-id-6 div.sk-item {position: relative;z-index: 1;}#sk-container-id-6 div.sk-parallel {display: flex;align-items: stretch;justify-content: center;background-color: white;position: relative;}#sk-container-id-6 div.sk-item::before, #sk-container-id-6 div.sk-parallel-item::before {content: \"\";position: absolute;border-left: 1px solid gray;box-sizing: border-box;top: 0;bottom: 0;left: 50%;z-index: -1;}#sk-container-id-6 div.sk-parallel-item {display: flex;flex-direction: column;z-index: 1;position: relative;background-color: white;}#sk-container-id-6 div.sk-parallel-item:first-child::after {align-self: flex-end;width: 50%;}#sk-container-id-6 div.sk-parallel-item:last-child::after {align-self: flex-start;width: 50%;}#sk-container-id-6 div.sk-parallel-item:only-child::after {width: 0;}#sk-container-id-6 div.sk-dashed-wrapped {border: 1px dashed gray;margin: 0 0.4em 0.5em 0.4em;box-sizing: border-box;padding-bottom: 0.4em;background-color: white;}#sk-container-id-6 div.sk-label label {font-family: monospace;font-weight: bold;display: inline-block;line-height: 1.2em;}#sk-container-id-6 div.sk-label-container {text-align: center;}#sk-container-id-6 div.sk-container {/* jupyter's `normalize.less` sets `[hidden] { display: none; }` but bootstrap.min.css set `[hidden] { display: none !important; }` so we also need the `!important` here to be able to override the default hidden behavior on the sphinx rendered scikit-learn.org. See: https://github.com/scikit-learn/scikit-learn/issues/21755 */display: inline-block !important;position: relative;}#sk-container-id-6 div.sk-text-repr-fallback {display: none;}</style><div id=\"sk-container-id-6\" class=\"sk-top-container\"><div class=\"sk-text-repr-fallback\"><pre>LinearRegression()</pre><b>In a Jupyter environment, please rerun this cell to show the HTML representation or trust the notebook. <br />On GitHub, the HTML representation is unable to render, please try loading this page with nbviewer.org.</b></div><div class=\"sk-container\" hidden><div class=\"sk-item\"><div class=\"sk-estimator sk-toggleable\"><input class=\"sk-toggleable__control sk-hidden--visually\" id=\"sk-estimator-id-6\" type=\"checkbox\" checked><label for=\"sk-estimator-id-6\" class=\"sk-toggleable__label sk-toggleable__label-arrow\">LinearRegression</label><div class=\"sk-toggleable__content\"><pre>LinearRegression()</pre></div></div></div></div></div>"
      ],
      "text/plain": [
       "LinearRegression()"
      ]
     },
     "execution_count": 136,
     "metadata": {},
     "output_type": "execute_result"
    }
   ],
   "source": [
    "X_train, X_test, y_train, y_test = train_test_split(X, y, test_size=0.2, random_state=42)\n",
    "\n",
    "regressor = LinearRegression()\n",
    "regressor.fit(X_train, y_train)"
   ]
  },
  {
   "cell_type": "markdown",
   "metadata": {},
   "source": [
    "Linear regression performance evaluation:"
   ]
  },
  {
   "cell_type": "code",
   "execution_count": 137,
   "metadata": {},
   "outputs": [
    {
     "name": "stdout",
     "output_type": "stream",
     "text": [
      "Mean Absolute Error: 0.7177117604024913\n",
      "Mean Squared Error: 0.8529376636275989\n",
      "Root Mean Squared Error: 0.9235462433617491\n"
     ]
    }
   ],
   "source": [
    "y_pred = regressor.predict(X_test)\n",
    "print('Mean Absolute Error:', metrics.mean_absolute_error(y_test, y_pred))\n",
    "print('Mean Squared Error:', metrics.mean_squared_error(y_test, y_pred))\n",
    "print('Root Mean Squared Error:', np.sqrt(metrics.mean_squared_error(y_test, y_pred)))"
   ]
  },
  {
   "cell_type": "markdown",
   "metadata": {},
   "source": [
    "#### Polynomial regression model"
   ]
  },
  {
   "cell_type": "code",
   "execution_count": 138,
   "metadata": {},
   "outputs": [],
   "source": [
    "def apply_polynomial_regresssion(X, y, degree):\n",
    "    X = X.copy()\n",
    "    y = y.copy()\n",
    "    \n",
    "    polynomial_features = PolynomialFeatures(degree=degree, include_bias=False)\n",
    "    X = polynomial_features.fit_transform(X)\n",
    "\n",
    "    X_train, X_test, y_train, y_test = train_test_split(X, y, test_size=0.2, random_state=42)\n",
    "    \n",
    "    regressor = LinearRegression()\n",
    "    regressor.fit(X_train, y_train)\n",
    "    \n",
    "    y_pred = regressor.predict(X_test)\n",
    "    print('Polynomial Regression with degree:', degree)\n",
    "    print('Mean Absolute Error:', metrics.mean_absolute_error(y_test, y_pred))\n",
    "    print('Mean Squared Error:', metrics.mean_squared_error(y_test, y_pred))\n",
    "    print('Root Mean Squared Error:', np.sqrt(metrics.mean_squared_error(y_test, y_pred)))\n",
    "    print('------------')"
   ]
  },
  {
   "cell_type": "markdown",
   "metadata": {},
   "source": [
    "Above is the function that takes X, y and apply \\\n",
    "Polnomial regression of specified degree.\n",
    "\n",
    "Let's test with degree 1, 2, 3 and 4.\\\n",
    "(Actually Polynomial regression with degree 1 is the Linear regression)"
   ]
  },
  {
   "cell_type": "code",
   "execution_count": 139,
   "metadata": {},
   "outputs": [
    {
     "name": "stdout",
     "output_type": "stream",
     "text": [
      "Polynomial Regression with degree: 1\n",
      "Mean Absolute Error: 0.7177117604024913\n",
      "Mean Squared Error: 0.8529376636275987\n",
      "Root Mean Squared Error: 0.9235462433617488\n",
      "------------\n",
      "Polynomial Regression with degree: 2\n",
      "Mean Absolute Error: 0.6882683769181983\n",
      "Mean Squared Error: 0.87410610352433\n",
      "Root Mean Squared Error: 0.9349364168350327\n",
      "------------\n",
      "Polynomial Regression with degree: 3\n",
      "Mean Absolute Error: 0.7176188298487646\n",
      "Mean Squared Error: 1.0426858831957317\n",
      "Root Mean Squared Error: 1.0211199161683862\n",
      "------------\n",
      "Polynomial Regression with degree: 4\n",
      "Mean Absolute Error: 1.1027561967185728\n",
      "Mean Squared Error: 3.2732048319784184\n",
      "Root Mean Squared Error: 1.8092000530561618\n",
      "------------\n"
     ]
    }
   ],
   "source": [
    "degrees = [1, 2, 3, 4]\n",
    "for degree in degrees: \n",
    "    apply_polynomial_regresssion(X, y, degree)"
   ]
  },
  {
   "cell_type": "markdown",
   "metadata": {},
   "source": [
    "As we can see Polynomial regression with degree 2 is the most optimal regression model, because with degree 3 it's become worse. Thus, I will use degree 2.\n",
    "\n",
    "But for now I will train on whole available data set, becuase \n",
    "1. I do not need to test, since I know optimal regression model\n",
    "3. Data set is small"
   ]
  },
  {
   "cell_type": "code",
   "execution_count": 140,
   "metadata": {},
   "outputs": [],
   "source": [
    "X = data[features_cols]\n",
    "y = data[target_col]\n",
    "\n",
    "polynomial_features = PolynomialFeatures(degree=2, include_bias=False)\n",
    "X = polynomial_features.fit_transform(X)\n",
    "\n",
    "X_train = X[y[target_col].var4.notnull()]\n",
    "y_train = y[y[target_col].var4.notnull()]\n",
    "\n",
    "regressor = LinearRegression()\n",
    "regressor.fit(X_train, y_train)\n",
    "\n",
    "data_null_indexes = data[data[target_col].var4.isnull()].index\n",
    "for index in data_null_indexes:\n",
    "    y.at[index, 'var4'] = regressor.predict([X[index]])"
   ]
  },
  {
   "cell_type": "markdown",
   "metadata": {},
   "source": [
    "At this step, I've found missing values and substitue them into initial dataset."
   ]
  },
  {
   "cell_type": "code",
   "execution_count": 141,
   "metadata": {},
   "outputs": [
    {
     "data": {
      "text/html": [
       "<div>\n",
       "<style scoped>\n",
       "    .dataframe tbody tr th:only-of-type {\n",
       "        vertical-align: middle;\n",
       "    }\n",
       "\n",
       "    .dataframe tbody tr th {\n",
       "        vertical-align: top;\n",
       "    }\n",
       "\n",
       "    .dataframe thead th {\n",
       "        text-align: right;\n",
       "    }\n",
       "</style>\n",
       "<table border=\"1\" class=\"dataframe\">\n",
       "  <thead>\n",
       "    <tr style=\"text-align: right;\">\n",
       "      <th></th>\n",
       "      <th>target</th>\n",
       "      <th>var1</th>\n",
       "      <th>var2</th>\n",
       "      <th>var3</th>\n",
       "      <th>var4</th>\n",
       "      <th>var5</th>\n",
       "      <th>var6</th>\n",
       "    </tr>\n",
       "  </thead>\n",
       "  <tbody>\n",
       "    <tr>\n",
       "      <th>0</th>\n",
       "      <td>0</td>\n",
       "      <td>1.697391</td>\n",
       "      <td>-0.967153</td>\n",
       "      <td>0.321166</td>\n",
       "      <td>1.124118</td>\n",
       "      <td>0.857726</td>\n",
       "      <td>0.0</td>\n",
       "    </tr>\n",
       "    <tr>\n",
       "      <th>1</th>\n",
       "      <td>0</td>\n",
       "      <td>0.978641</td>\n",
       "      <td>0.871575</td>\n",
       "      <td>-0.828074</td>\n",
       "      <td>-1.044401</td>\n",
       "      <td>0.338188</td>\n",
       "      <td>1.0</td>\n",
       "    </tr>\n",
       "    <tr>\n",
       "      <th>2</th>\n",
       "      <td>1</td>\n",
       "      <td>-1.419013</td>\n",
       "      <td>-1.112060</td>\n",
       "      <td>-0.195992</td>\n",
       "      <td>-0.702003</td>\n",
       "      <td>0.172622</td>\n",
       "      <td>0.0</td>\n",
       "    </tr>\n",
       "    <tr>\n",
       "      <th>3</th>\n",
       "      <td>0</td>\n",
       "      <td>-0.616000</td>\n",
       "      <td>-0.223659</td>\n",
       "      <td>1.456041</td>\n",
       "      <td>-0.245473</td>\n",
       "      <td>1.444505</td>\n",
       "      <td>1.0</td>\n",
       "    </tr>\n",
       "    <tr>\n",
       "      <th>4</th>\n",
       "      <td>0</td>\n",
       "      <td>1.058578</td>\n",
       "      <td>0.383030</td>\n",
       "      <td>-1.129750</td>\n",
       "      <td>-0.131340</td>\n",
       "      <td>1.237705</td>\n",
       "      <td>0.0</td>\n",
       "    </tr>\n",
       "    <tr>\n",
       "      <th>...</th>\n",
       "      <td>...</td>\n",
       "      <td>...</td>\n",
       "      <td>...</td>\n",
       "      <td>...</td>\n",
       "      <td>...</td>\n",
       "      <td>...</td>\n",
       "      <td>...</td>\n",
       "    </tr>\n",
       "    <tr>\n",
       "      <th>920</th>\n",
       "      <td>0</td>\n",
       "      <td>0.708541</td>\n",
       "      <td>-0.008370</td>\n",
       "      <td>-1.373963</td>\n",
       "      <td>-1.509657</td>\n",
       "      <td>0.317889</td>\n",
       "      <td>1.0</td>\n",
       "    </tr>\n",
       "    <tr>\n",
       "      <th>921</th>\n",
       "      <td>1</td>\n",
       "      <td>-0.199234</td>\n",
       "      <td>-0.551033</td>\n",
       "      <td>-0.138530</td>\n",
       "      <td>0.231858</td>\n",
       "      <td>-1.580103</td>\n",
       "      <td>0.0</td>\n",
       "    </tr>\n",
       "    <tr>\n",
       "      <th>922</th>\n",
       "      <td>1</td>\n",
       "      <td>-1.081957</td>\n",
       "      <td>-0.075622</td>\n",
       "      <td>0.924517</td>\n",
       "      <td>0.579769</td>\n",
       "      <td>-1.484950</td>\n",
       "      <td>1.0</td>\n",
       "    </tr>\n",
       "    <tr>\n",
       "      <th>923</th>\n",
       "      <td>0</td>\n",
       "      <td>0.421360</td>\n",
       "      <td>0.547516</td>\n",
       "      <td>-1.057922</td>\n",
       "      <td>0.035454</td>\n",
       "      <td>1.370919</td>\n",
       "      <td>1.0</td>\n",
       "    </tr>\n",
       "    <tr>\n",
       "      <th>924</th>\n",
       "      <td>1</td>\n",
       "      <td>-1.343859</td>\n",
       "      <td>-0.946820</td>\n",
       "      <td>-1.632543</td>\n",
       "      <td>1.307984</td>\n",
       "      <td>0.555772</td>\n",
       "      <td>1.0</td>\n",
       "    </tr>\n",
       "  </tbody>\n",
       "</table>\n",
       "<p>925 rows × 7 columns</p>\n",
       "</div>"
      ],
      "text/plain": [
       "     target      var1      var2      var3      var4      var5  var6\n",
       "0         0  1.697391 -0.967153  0.321166  1.124118  0.857726   0.0\n",
       "1         0  0.978641  0.871575 -0.828074 -1.044401  0.338188   1.0\n",
       "2         1 -1.419013 -1.112060 -0.195992 -0.702003  0.172622   0.0\n",
       "3         0 -0.616000 -0.223659  1.456041 -0.245473  1.444505   1.0\n",
       "4         0  1.058578  0.383030 -1.129750 -0.131340  1.237705   0.0\n",
       "..      ...       ...       ...       ...       ...       ...   ...\n",
       "920       0  0.708541 -0.008370 -1.373963 -1.509657  0.317889   1.0\n",
       "921       1 -0.199234 -0.551033 -0.138530  0.231858 -1.580103   0.0\n",
       "922       1 -1.081957 -0.075622  0.924517  0.579769 -1.484950   1.0\n",
       "923       0  0.421360  0.547516 -1.057922  0.035454  1.370919   1.0\n",
       "924       1 -1.343859 -0.946820 -1.632543  1.307984  0.555772   1.0\n",
       "\n",
       "[925 rows x 7 columns]"
      ]
     },
     "execution_count": 141,
     "metadata": {},
     "output_type": "execute_result"
    }
   ],
   "source": [
    "data[target_col] = y\n",
    "data"
   ]
  },
  {
   "cell_type": "markdown",
   "metadata": {},
   "source": [
    "### Implementing the PCA technique"
   ]
  },
  {
   "cell_type": "code",
   "execution_count": 142,
   "metadata": {},
   "outputs": [],
   "source": [
    "features_cols = ['var1', 'var2', 'var3', 'var4', 'var5', 'var6']\n",
    "target_col = ['target']\n",
    "\n",
    "features = data[features_cols]\n",
    "target = data[target_col]"
   ]
  },
  {
   "cell_type": "markdown",
   "metadata": {},
   "source": [
    "Let's reduce data to 2 compontents.\n",
    "\n",
    "General steps:\n",
    "1. Transform the data to have zero mean by subtracting mean from each point\n",
    "2. Compute the sample covariance matrix C\n",
    "3. Find p (eigenvector, eigenvalue) pairs of C\n",
    "4. Find the eigenvectors corresponding to d highest eigenvalues w_1, w_2, ..., w_d\n",
    "5. Compute X' as X' = XW, where W = [w_1, w_2, ..., w_d]\n",
    "\n"
   ]
  },
  {
   "cell_type": "code",
   "execution_count": 143,
   "metadata": {},
   "outputs": [],
   "source": [
    "def my_PCA(features, n_components):\n",
    "    features_copy = features.copy()\n",
    "    features_scaled = features_copy - np.mean(features_copy, axis = 0)\n",
    "\n",
    "    cov_mat = np.cov(features_scaled.T)\n",
    "    eig_val, eig_vec = np.linalg.eigh(cov_mat)\n",
    "\n",
    "    idx = np.argsort(eig_val)[::-1]\n",
    "\n",
    "    eig_val_sorted = eig_val[idx]\n",
    "    eig_vec_sorted = eig_vec[:, idx]\n",
    "\n",
    "    W = eig_vec_sorted[:, :n_components]\n",
    "    features_reduced = features_scaled @ W\n",
    "    \n",
    "    return features_reduced"
   ]
  },
  {
   "cell_type": "markdown",
   "metadata": {},
   "source": [
    "*Reduce to one dimension:*"
   ]
  },
  {
   "cell_type": "code",
   "execution_count": 144,
   "metadata": {},
   "outputs": [
    {
     "data": {
      "image/png": "[encoded data removed]",
      "text/plain": [
       "<Figure size 500x100 with 1 Axes>"
      ]
     },
     "metadata": {},
     "output_type": "display_data"
    }
   ],
   "source": [
    "x = my_PCA(features, 1)\n",
    "\n",
    "target_0_rows = x.loc[target['target'] == 0.0]\n",
    "target_1_rows = x.loc[target['target'] == 1.0]\n",
    "\n",
    "fig = plt.figure(figsize=(5, 1))\n",
    "ax = fig.add_subplot(111)\n",
    "ax.set_title('PCA, n_components = 1')\n",
    "ax.scatter(target_0_rows[0], np.zeros(len(target_0_rows)), label='0')\n",
    "ax.scatter(target_1_rows[0], np.ones(len(target_1_rows)), label='1')\n",
    "ax.legend()\n",
    "\n",
    "plt.show()"
   ]
  },
  {
   "cell_type": "markdown",
   "metadata": {},
   "source": [
    "*Reduce to two dimensions:*"
   ]
  },
  {
   "cell_type": "code",
   "execution_count": 145,
   "metadata": {},
   "outputs": [
    {
     "data": {
      "image/png": "[encoded data removed]",
      "text/plain": [
       "<Figure size 500x500 with 1 Axes>"
      ]
     },
     "metadata": {},
     "output_type": "display_data"
    }
   ],
   "source": [
    "x = my_PCA(features, 2)\n",
    "\n",
    "# from sklearn.decomposition import PCA\n",
    "# pca = PCA(n_components = 2)\n",
    "# print(pca.fit_transform(features))\n",
    "\n",
    "\n",
    "target_0_rows = x.loc[target['target'] == 0.0]\n",
    "target_1_rows = x.loc[target['target'] == 1.0]\n",
    "\n",
    "fig = plt.figure(figsize=(5, 5))\n",
    "ax = fig.add_subplot(111)\n",
    "ax.set_title('PCA, n_components = 2')\n",
    "ax.scatter(target_0_rows[0], target_0_rows[1], label='0')\n",
    "ax.scatter(target_1_rows[0], target_1_rows[1], label='1')\n",
    "\n",
    "ax.legend()\n",
    "\n",
    "plt.show()"
   ]
  },
  {
   "cell_type": "markdown",
   "metadata": {},
   "source": [
    "## Training\n",
    "### Split dataset"
   ]
  },
  {
   "cell_type": "code",
   "execution_count": 146,
   "metadata": {},
   "outputs": [],
   "source": [
    "features_cols = ['var1', 'var2', 'var3', 'var4', 'var5', 'var6']\n",
    "target_col = ['target']\n",
    "pca_n_components = [1,2,3]\n",
    "\n",
    "features = data[features_cols]\n",
    "target = data[target_col[0]]\n",
    "\n",
    "X_train, X_test, y_train, y_test = train_test_split(features, target, test_size=0.2, random_state=42)"
   ]
  },
  {
   "cell_type": "markdown",
   "metadata": {},
   "source": [
    "### Logistic Regression"
   ]
  },
  {
   "cell_type": "code",
   "execution_count": 147,
   "metadata": {},
   "outputs": [
    {
     "name": "stdout",
     "output_type": "stream",
     "text": [
      "Logistic Regression | No PCA | accuracy = 0.9891891891891892\n",
      "Best hyperparameters: {'C': 0.0, 'penalty': 'none'}\n",
      "Logistic Regression | PCA_n_component = 1 | accuracy = 0.9837837837837838\n",
      "Best hyperparameters: {'C': 0.0, 'penalty': 'none'}\n",
      "Logistic Regression | PCA_n_component = 2 | accuracy = 0.972972972972973\n",
      "Best hyperparameters: {'C': 0.2222222222222222, 'penalty': 'l2'}\n",
      "Logistic Regression | PCA_n_component = 3 | accuracy = 0.9837837837837838\n",
      "Best hyperparameters: {'C': 0.7777777777777777, 'penalty': 'l2'}\n"
     ]
    }
   ],
   "source": [
    "params = {\n",
    "    'penalty':['none', 'l2'],\n",
    "    'C': np.linspace(0, 1, 10),\n",
    "}\n",
    "\n",
    "grid_search_logreg = GridSearchCV(\n",
    "    estimator=LogisticRegression(),\n",
    "    param_grid = params,\n",
    "    cv = 3,\n",
    "    scoring='accuracy'\n",
    ")\n",
    "\n",
    "grid_search_logreg.fit(X_train, y_train)\n",
    "y_pred = grid_search_logreg.predict(X_test)\n",
    "\n",
    "logreg_accuracy = metrics.accuracy_score(y_test, y_pred)\n",
    "print(f\"Logistic Regression | No PCA | accuracy =\", logreg_accuracy)\n",
    "print(\"Best hyperparameters:\", grid_search_logreg.best_params_)\n",
    "\n",
    "for component in pca_n_components:\n",
    "    x = my_PCA(features, component)\n",
    "    X_train_pca, X_test_pca, y_train_pca, y_test_pca = train_test_split(x, target, test_size=0.2, random_state=42)\n",
    "\n",
    "    grid_search_logreg.fit(X_train_pca, y_train_pca)\n",
    "    y_pred = grid_search_logreg.predict(X_test_pca)\n",
    "\n",
    "    logreg_accuracy = metrics.accuracy_score(y_test_pca, y_pred)\n",
    "    print(f\"Logistic Regression | PCA_n_component = {component} | accuracy =\", logreg_accuracy)\n",
    "    print(\"Best hyperparameters:\", grid_search_logreg.best_params_)"
   ]
  },
  {
   "cell_type": "markdown",
   "metadata": {},
   "source": [
    "### K-Nearest Neighbor"
   ]
  },
  {
   "cell_type": "code",
   "execution_count": 148,
   "metadata": {},
   "outputs": [
    {
     "name": "stdout",
     "output_type": "stream",
     "text": [
      "K-Nearest Neighbor accuracy | No PCA | accuracy = 0.972972972972973\n",
      "Best hyperparameters: {'metric': 'euclidean', 'n_neighbors': 6, 'weights': 'distance'}\n",
      "K-Nearest Neighbor accuracy | PCA_n_component = 1 | accuracy = 0.9837837837837838\n",
      "Best hyperparameters: {'metric': 'euclidean', 'n_neighbors': 10, 'weights': 'uniform'}\n",
      "K-Nearest Neighbor accuracy | PCA_n_component = 2 | accuracy = 0.9783783783783784\n",
      "Best hyperparameters: {'metric': 'euclidean', 'n_neighbors': 9, 'weights': 'uniform'}\n",
      "K-Nearest Neighbor accuracy | PCA_n_component = 3 | accuracy = 0.9675675675675676\n",
      "Best hyperparameters: {'metric': 'manhattan', 'n_neighbors': 7, 'weights': 'uniform'}\n"
     ]
    }
   ],
   "source": [
    "params = {\n",
    "    'n_neighbors':list(range(1, 11)),\n",
    "    'weights':['uniform', 'distance'],\n",
    "    'metric':['euclidean', 'manhattan', 'chebyshev', 'cosine']\n",
    "}\n",
    "\n",
    "grid_search_knn = GridSearchCV(\n",
    "    estimator=KNeighborsClassifier(),\n",
    "    param_grid=params,\n",
    "    cv=3,\n",
    "    scoring='accuracy'\n",
    ")\n",
    "\n",
    "grid_search_knn.fit(X_train, y_train)\n",
    "y_pred = grid_search_knn.predict(X_test)\n",
    "\n",
    "knn_accuracy = metrics.accuracy_score(y_test, y_pred)\n",
    "print(f\"K-Nearest Neighbor accuracy | No PCA | accuracy =\", knn_accuracy)\n",
    "print(\"Best hyperparameters:\", grid_search_knn.best_params_)\n",
    "\n",
    "for component in pca_n_components:\n",
    "    x = my_PCA(features, component)\n",
    "    X_train_pca, X_test_pca, y_train_pca, y_test_pca = train_test_split(x, target, test_size=0.2, random_state=42)\n",
    "\n",
    "    grid_search_knn.fit(X_train_pca, y_train_pca)\n",
    "    y_pred = grid_search_knn.predict(X_test_pca)\n",
    "\n",
    "    knn_accuracy = metrics.accuracy_score(y_test_pca, y_pred)\n",
    "    print(f\"K-Nearest Neighbor accuracy | PCA_n_component = {component} | accuracy =\", knn_accuracy)\n",
    "    print(\"Best hyperparameters:\", grid_search_knn.best_params_)"
   ]
  },
  {
   "cell_type": "markdown",
   "metadata": {},
   "source": [
    "### Naive Bayes"
   ]
  },
  {
   "cell_type": "code",
   "execution_count": 149,
   "metadata": {},
   "outputs": [
    {
     "name": "stdout",
     "output_type": "stream",
     "text": [
      "Naive Bayes | No PCA | accuracy = 0.9838709677419355\n",
      "Naive Bayes | PCA_n_component = 1 | accuracy = 0.9731182795698925\n",
      "Naive Bayes | PCA_n_component = 2 | accuracy = 0.978494623655914\n",
      "Naive Bayes | PCA_n_component = 3 | accuracy = 0.9731182795698925\n"
     ]
    }
   ],
   "source": [
    "nb_regressor = GaussianNB()\n",
    "nb_regressor.fit(X_train, y_train)\n",
    "\n",
    "scores = cross_val_score(\n",
    "    nb_regressor, \n",
    "    X_test, \n",
    "    y_test,\n",
    "    cv=3,\n",
    "    scoring='accuracy'\n",
    ")\n",
    "\n",
    "nb_accuracy = np.mean(scores)\n",
    "print(f\"Naive Bayes | No PCA | accuracy =\", nb_accuracy)\n",
    "\n",
    "for component in pca_n_components:\n",
    "    x = my_PCA(features, component)\n",
    "    X_train_pca, X_test_pca, y_train_pca, y_test_pca = train_test_split(x, target, test_size=0.2, random_state=42)\n",
    "    \n",
    "    nb_regressor.fit(X_train_pca, y_train_pca)\n",
    "    scores = cross_val_score(\n",
    "        nb_regressor, \n",
    "        X_test_pca, \n",
    "        y_test_pca,\n",
    "        cv=3,\n",
    "        scoring='accuracy'\n",
    "    )\n",
    "\n",
    "    nb_accuracy = np.mean(scores)\n",
    "    print(f\"Naive Bayes | PCA_n_component = {component} | accuracy =\", nb_accuracy)"
   ]
  },
  {
   "cell_type": "markdown",
   "metadata": {},
   "source": [
    "### Conclusion"
   ]
  },
  {
   "cell_type": "markdown",
   "metadata": {},
   "source": [
    "Results shows that Logistic Regression without PCA component is the best. \n"
   ]
  }
 ],
 "metadata": {
  "kernelspec": {
   "display_name": "Python 3 (ipykernel)",
   "language": "python",
   "name": "python3"
  },
  "language_info": {
   "codemirror_mode": {
    "name": "ipython",
    "version": 3
   },
   "file_extension": ".py",
   "mimetype": "text/x-python",
   "name": "python",
   "nbconvert_exporter": "python",
   "pygments_lexer": "ipython3",
   "version": "3.10.6"
  },
  "vscode": {
   "interpreter": {
    "hash": "6df0ddd77085922c773681b1c23afa6ec355a7eb5a25c833f534ec75c0111436"
   }
  }
 },
 "nbformat": 4,
 "nbformat_minor": 4
}
